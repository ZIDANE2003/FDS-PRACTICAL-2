{
  "nbformat": 4,
  "nbformat_minor": 0,
  "metadata": {
    "colab": {
      "name": "SE32 FDS Practical 2",
      "provenance": [],
      "collapsed_sections": [],
      "toc_visible": true,
      "include_colab_link": true
    },
    "kernelspec": {
      "display_name": "Python 3",
      "name": "python3"
    }
  },
  "cells": [
    {
      "cell_type": "markdown",
      "metadata": {
        "id": "view-in-github",
        "colab_type": "text"
      },
      "source": [
        "<a href=\"https://colab.research.google.com/github/ZIDANE2003/FDS-PRACTICAL-2/blob/main/SE32_FDS_Practical_2.ipynb\" target=\"_parent\"><img src=\"https://colab.research.google.com/assets/colab-badge.svg\" alt=\"Open In Colab\"/></a>"
      ]
    },
    {
      "cell_type": "code",
      "metadata": {
        "id": "4GxDWCqrhEpW",
        "colab": {
          "base_uri": "https://localhost:8080/"
        },
        "outputId": "a53091dc-fe46-4b69-b398-b38107a5c744"
      },
      "source": [
        "# Program that computes net amount of a bank account\n",
        "totalamount=0\n",
        "while True:\n",
        "\n",
        "  a=input(\"operation and amount\")\n",
        "  if not a :\n",
        "    break\n",
        "  values=a.split(\",\")\n",
        "  operation=values[0]\n",
        "  amount=int(values[1])\n",
        "  if operation==\"D\":\n",
        "    totalamount+=amount\n",
        "  elif operation==\"W\":\n",
        "    totalamount-=amount\n",
        "  else :\n",
        "    pass\n",
        "print(totalamount) \n",
        "   "
      ],
      "execution_count": 1,
      "outputs": [
        {
          "output_type": "stream",
          "name": "stdout",
          "text": [
            "operation and amountD,300\n",
            "operation and amountD,300\n",
            "operation and amountW,200\n",
            "operation and amountD,100\n",
            "operation and amount\n",
            "500\n"
          ]
        }
      ]
    }
  ]
}